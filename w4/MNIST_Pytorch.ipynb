{
  "nbformat": 4,
  "nbformat_minor": 0,
  "metadata": {
    "colab": {
      "name": "w4/MNIST-Pytorch.ipynb",
      "provenance": [],
      "collapsed_sections": [],
      "include_colab_link": true
    },
    "kernelspec": {
      "name": "python3",
      "display_name": "Python 3"
    },
    "accelerator": "GPU"
  },
  "cells": [
    {
      "cell_type": "markdown",
      "metadata": {
        "id": "view-in-github",
        "colab_type": "text"
      },
      "source": [
        "<a href=\"https://colab.research.google.com/github/bleamer/eva5/blob/master/w4/MNIST_Pytorch.ipynb\" target=\"_parent\"><img src=\"https://colab.research.google.com/assets/colab-badge.svg\" alt=\"Open In Colab\"/></a>"
      ]
    },
    {
      "cell_type": "markdown",
      "metadata": {
        "id": "WjBcXZtDBaEr",
        "colab_type": "text"
      },
      "source": [
        "## MNIST classification using CNN in PYTORCH\n",
        "The following notebook CNN for classifying images in the MNIST image dataset.\n",
        "\n",
        "The process uses near constant channel architecture and we are able to achieve a **~99%** accuracy by using **~ 11K** parameters"
      ]
    },
    {
      "cell_type": "code",
      "metadata": {
        "id": "0m2JWFliFfKT",
        "colab_type": "code",
        "colab": {}
      },
      "source": [
        "from __future__ import print_function\n",
        "import torch\n",
        "import torch.nn as nn\n",
        "import torch.nn.functional as F\n",
        "import torch.optim as optim\n",
        "from torchvision import datasets, transforms"
      ],
      "execution_count": 106,
      "outputs": []
    },
    {
      "cell_type": "code",
      "metadata": {
        "id": "h_Cx9q2QFgM7",
        "colab_type": "code",
        "colab": {}
      },
      "source": [
        "class Net(nn.Module):\n",
        "    def __init__(self):\n",
        "        super(Net, self).__init__()\n",
        "        self.conv1 = nn.Conv2d(1, 10, 3, padding=1) #input -? OUtput? RF\n",
        "        self.batch1 = nn.BatchNorm2d(10)\n",
        "        self.dropout1 = nn.Dropout(0.1)        \n",
        "\n",
        "        ## Increase the no. of kernels / transition layer\n",
        "        self.conv2 = nn.Conv2d(10, 10, 3, padding=1)\n",
        "        self.batch2 = nn.BatchNorm2d(10)\n",
        "        self.dropout2 = nn.Dropout(0.1)        \n",
        "\n",
        "        self.pool1 = nn.MaxPool2d(2, 2)\n",
        "        \n",
        "        ## Increase the no. of kernels / transition layer\n",
        "        self.conv3 = nn.Conv2d(10, 16, 3, padding=1)\n",
        "        self.batch3 = nn.BatchNorm2d(16)\n",
        "        self.dropout3 = nn.Dropout(0.1)        \n",
        "\n",
        "        self.conv4 = nn.Conv2d(16, 16, 3, padding=1)\n",
        "        self.batch4 = nn.BatchNorm2d(16)\n",
        "        self.dropout4 = nn.Dropout(0.1)        \n",
        "\n",
        "        self.pool2 = nn.MaxPool2d(2, 2)\n",
        "        \n",
        "        self.conv5 = nn.Conv2d(16, 16, 3)\n",
        "        self.batch5 = nn.BatchNorm2d(16)\n",
        "        self.dropout5 = nn.Dropout(0.1)        \n",
        "        \n",
        "        self.conv6 = nn.Conv2d(16, 16, 3)\n",
        "        self.batch6 = nn.BatchNorm2d(16)\n",
        "        self.dropout6 = nn.Dropout(0.1)        \n",
        "\n",
        "        ## Reduce the no. of kernels / to required classes\n",
        "        # self.gap1 = nn.AvgPool2d(kernel_size=(2,2))\n",
        "        self.conv7 = nn.Conv2d(16, 10, 3)\n",
        "\n",
        "\n",
        "\n",
        "    def forward(self, x):\n",
        "        x = F.relu(self.dropout1(self.batch1(self.conv1(x))))\n",
        "        x = F.relu(self.dropout2(self.batch2(self.conv2(x))))\n",
        "        x = self.pool1(x)\n",
        "\n",
        "        x = F.relu(self.dropout3(self.batch3(self.conv3(x))))\n",
        "        x = F.relu(self.dropout4(self.batch4(self.conv4(x))))\n",
        "        x = self.pool2(x)\n",
        "        # x = self.gap1(x)\n",
        "\n",
        "        x = F.relu(self.dropout5(self.batch5(self.conv5(x))))\n",
        "        x = F.relu(self.dropout6(self.batch6(self.conv6(x))))\n",
        "\n",
        "        # x = self.pool1(F.relu(self.conv2(F.relu(self.conv1(x)))))\n",
        "        # x = self.pool2(F.relu(self.conv4(F.relu(self.conv3(x)))))\n",
        "        # x = F.relu(self.conv6(F.relu(self.conv5(x))))\n",
        "        x = self.conv7(x)\n",
        "        x = x.view(-1, 10)\n",
        "        return F.log_softmax(x)"
      ],
      "execution_count": 107,
      "outputs": []
    },
    {
      "cell_type": "code",
      "metadata": {
        "colab_type": "code",
        "id": "xdydjYTZFyi3",
        "colab": {
          "base_uri": "https://localhost:8080/",
          "height": 649
        },
        "outputId": "084969c6-2c13-4646-ee95-1f1bc1735389"
      },
      "source": [
        "!pip install torchsummary\n",
        "from torchsummary import summary\n",
        "use_cuda = torch.cuda.is_available()\n",
        "device = torch.device(\"cuda\" if use_cuda else \"cpu\")\n",
        "model = Net().to(device)\n",
        "summary(model, input_size=(1, 28, 28))"
      ],
      "execution_count": 108,
      "outputs": [
        {
          "output_type": "stream",
          "text": [
            "Requirement already satisfied: torchsummary in /usr/local/lib/python3.6/dist-packages (1.5.1)\n",
            "----------------------------------------------------------------\n",
            "        Layer (type)               Output Shape         Param #\n",
            "================================================================\n",
            "            Conv2d-1           [-1, 10, 28, 28]             100\n",
            "       BatchNorm2d-2           [-1, 10, 28, 28]              20\n",
            "           Dropout-3           [-1, 10, 28, 28]               0\n",
            "            Conv2d-4           [-1, 10, 28, 28]             910\n",
            "       BatchNorm2d-5           [-1, 10, 28, 28]              20\n",
            "           Dropout-6           [-1, 10, 28, 28]               0\n",
            "         MaxPool2d-7           [-1, 10, 14, 14]               0\n",
            "            Conv2d-8           [-1, 16, 14, 14]           1,456\n",
            "       BatchNorm2d-9           [-1, 16, 14, 14]              32\n",
            "          Dropout-10           [-1, 16, 14, 14]               0\n",
            "           Conv2d-11           [-1, 16, 14, 14]           2,320\n",
            "      BatchNorm2d-12           [-1, 16, 14, 14]              32\n",
            "          Dropout-13           [-1, 16, 14, 14]               0\n",
            "        MaxPool2d-14             [-1, 16, 7, 7]               0\n",
            "           Conv2d-15             [-1, 16, 5, 5]           2,320\n",
            "      BatchNorm2d-16             [-1, 16, 5, 5]              32\n",
            "          Dropout-17             [-1, 16, 5, 5]               0\n",
            "           Conv2d-18             [-1, 16, 3, 3]           2,320\n",
            "      BatchNorm2d-19             [-1, 16, 3, 3]              32\n",
            "          Dropout-20             [-1, 16, 3, 3]               0\n",
            "           Conv2d-21             [-1, 10, 1, 1]           1,450\n",
            "================================================================\n",
            "Total params: 11,044\n",
            "Trainable params: 11,044\n",
            "Non-trainable params: 0\n",
            "----------------------------------------------------------------\n",
            "Input size (MB): 0.00\n",
            "Forward/backward pass size (MB): 0.54\n",
            "Params size (MB): 0.04\n",
            "Estimated Total Size (MB): 0.58\n",
            "----------------------------------------------------------------\n"
          ],
          "name": "stdout"
        },
        {
          "output_type": "stream",
          "text": [
            "/usr/local/lib/python3.6/dist-packages/ipykernel_launcher.py:62: UserWarning: Implicit dimension choice for log_softmax has been deprecated. Change the call to include dim=X as an argument.\n"
          ],
          "name": "stderr"
        }
      ]
    },
    {
      "cell_type": "code",
      "metadata": {
        "id": "DqTWLaM5GHgH",
        "colab_type": "code",
        "colab": {}
      },
      "source": [
        "\n",
        "\n",
        "torch.manual_seed(1)\n",
        "batch_size = 128\n",
        "\n",
        "kwargs = {'num_workers': 1, 'pin_memory': True} if use_cuda else {}\n",
        "train_loader = torch.utils.data.DataLoader(\n",
        "    datasets.MNIST('../data', train=True, download=True,\n",
        "                    transform=transforms.Compose([\n",
        "                        transforms.ToTensor(),\n",
        "                        transforms.Normalize((0.1307,), (0.3081,))\n",
        "                    ])),\n",
        "    batch_size=batch_size, shuffle=True, **kwargs)\n",
        "test_loader = torch.utils.data.DataLoader(\n",
        "    datasets.MNIST('../data', train=False, transform=transforms.Compose([\n",
        "                        transforms.ToTensor(),\n",
        "                        transforms.Normalize((0.1307,), (0.3081,))\n",
        "                    ])),\n",
        "    batch_size=batch_size, shuffle=True, **kwargs)\n"
      ],
      "execution_count": 109,
      "outputs": []
    },
    {
      "cell_type": "code",
      "metadata": {
        "id": "8fDefDhaFlwH",
        "colab_type": "code",
        "colab": {}
      },
      "source": [
        "from tqdm import tqdm\n",
        "train_loss_history = []\n",
        "test_loss_history = []\n",
        "test_history=[]\n",
        "def train(model, device, train_loader, optimizer, epoch):\n",
        "    model.train()\n",
        "    pbar = tqdm(train_loader)\n",
        "    for batch_idx, (data, target) in enumerate(pbar):\n",
        "        data, target = data.to(device), target.to(device)\n",
        "        optimizer.zero_grad()\n",
        "        output = model(data)\n",
        "        loss = F.nll_loss(output, target)\n",
        "        loss.backward()\n",
        "        optimizer.step()\n",
        "        pbar.set_description(desc= f'loss={loss.item()} batch_id={batch_idx}')\n",
        "        train_loss_history.append(loss.item())\n",
        "\n",
        "def test(model, device, test_loader, epoch):\n",
        "    model.eval()\n",
        "    test_loss = 0\n",
        "    correct = 0\n",
        "    with torch.no_grad():\n",
        "        for data, target in test_loader:\n",
        "            data, target = data.to(device), target.to(device)\n",
        "            output = model(data)\n",
        "            iter_loss = F.nll_loss(output, target, reduction='sum').item()\n",
        "            test_loss +=  iter_loss # sum up batch loss\n",
        "            pred = output.argmax(dim=1, keepdim=True)  # get the index of the max log-probability\n",
        "            correct += pred.eq(target.view_as(pred)).sum().item()\n",
        "            test_loss_history.append(iter_loss)\n",
        "\n",
        "    test_loss /= len(test_loader.dataset)\n",
        "\n",
        "    print('\\nEpoch {}: Test set: Average loss: {:.4f}, Accuracy: {}/{} ({:.2f}%)\\n'.format(\n",
        "        epoch, test_loss, correct, len(test_loader.dataset),\n",
        "        100. * correct / len(test_loader.dataset)))\n",
        "    test_history.append((test_loss, 100. * correct / len(test_loader.dataset)))"
      ],
      "execution_count": 110,
      "outputs": []
    },
    {
      "cell_type": "code",
      "metadata": {
        "id": "MMWbLWO6FuHb",
        "colab_type": "code",
        "colab": {
          "base_uri": "https://localhost:8080/",
          "height": 1000
        },
        "outputId": "9a2fd47d-71c0-436b-80c1-0fef1d7e5f8e"
      },
      "source": [
        "\n",
        "model = Net().to(device)\n",
        "optimizer = optim.SGD(model.parameters(), lr=0.01, momentum=0.9)\n",
        "\n",
        "for epoch in range(1, 19):\n",
        "    train(model, device, train_loader, optimizer, epoch)\n",
        "    test(model, device, test_loader, epoch)"
      ],
      "execution_count": 111,
      "outputs": [
        {
          "output_type": "stream",
          "text": [
            "  0%|          | 0/469 [00:00<?, ?it/s]/usr/local/lib/python3.6/dist-packages/ipykernel_launcher.py:62: UserWarning: Implicit dimension choice for log_softmax has been deprecated. Change the call to include dim=X as an argument.\n",
            "loss=0.02264127880334854 batch_id=468: 100%|██████████| 469/469 [00:20<00:00, 22.58it/s]\n",
            "  0%|          | 0/469 [00:00<?, ?it/s]"
          ],
          "name": "stderr"
        },
        {
          "output_type": "stream",
          "text": [
            "\n",
            "Epoch 1: Test set: Average loss: 0.0653, Accuracy: 9809/10000 (98.09%)\n",
            "\n"
          ],
          "name": "stdout"
        },
        {
          "output_type": "stream",
          "text": [
            "loss=0.033232737332582474 batch_id=468: 100%|██████████| 469/469 [00:21<00:00, 22.20it/s]\n",
            "  0%|          | 0/469 [00:00<?, ?it/s]"
          ],
          "name": "stderr"
        },
        {
          "output_type": "stream",
          "text": [
            "\n",
            "Epoch 2: Test set: Average loss: 0.0566, Accuracy: 9823/10000 (98.23%)\n",
            "\n"
          ],
          "name": "stdout"
        },
        {
          "output_type": "stream",
          "text": [
            "loss=0.10220889002084732 batch_id=468: 100%|██████████| 469/469 [00:21<00:00, 22.03it/s]\n",
            "  0%|          | 0/469 [00:00<?, ?it/s]"
          ],
          "name": "stderr"
        },
        {
          "output_type": "stream",
          "text": [
            "\n",
            "Epoch 3: Test set: Average loss: 0.0376, Accuracy: 9884/10000 (98.84%)\n",
            "\n"
          ],
          "name": "stdout"
        },
        {
          "output_type": "stream",
          "text": [
            "loss=0.016404880210757256 batch_id=468: 100%|██████████| 469/469 [00:20<00:00, 22.51it/s]\n",
            "  0%|          | 0/469 [00:00<?, ?it/s]"
          ],
          "name": "stderr"
        },
        {
          "output_type": "stream",
          "text": [
            "\n",
            "Epoch 4: Test set: Average loss: 0.0293, Accuracy: 9915/10000 (99.15%)\n",
            "\n"
          ],
          "name": "stdout"
        },
        {
          "output_type": "stream",
          "text": [
            "loss=0.05350374057888985 batch_id=468: 100%|██████████| 469/469 [00:21<00:00, 22.25it/s]\n",
            "  0%|          | 0/469 [00:00<?, ?it/s]"
          ],
          "name": "stderr"
        },
        {
          "output_type": "stream",
          "text": [
            "\n",
            "Epoch 5: Test set: Average loss: 0.0243, Accuracy: 9928/10000 (99.28%)\n",
            "\n"
          ],
          "name": "stdout"
        },
        {
          "output_type": "stream",
          "text": [
            "loss=0.008209320716559887 batch_id=468: 100%|██████████| 469/469 [00:21<00:00, 22.08it/s]\n",
            "  0%|          | 0/469 [00:00<?, ?it/s]"
          ],
          "name": "stderr"
        },
        {
          "output_type": "stream",
          "text": [
            "\n",
            "Epoch 6: Test set: Average loss: 0.0277, Accuracy: 9921/10000 (99.21%)\n",
            "\n"
          ],
          "name": "stdout"
        },
        {
          "output_type": "stream",
          "text": [
            "loss=0.003630843246355653 batch_id=468: 100%|██████████| 469/469 [00:20<00:00, 22.39it/s]\n",
            "  0%|          | 0/469 [00:00<?, ?it/s]"
          ],
          "name": "stderr"
        },
        {
          "output_type": "stream",
          "text": [
            "\n",
            "Epoch 7: Test set: Average loss: 0.0316, Accuracy: 9901/10000 (99.01%)\n",
            "\n"
          ],
          "name": "stdout"
        },
        {
          "output_type": "stream",
          "text": [
            "loss=0.011346840299665928 batch_id=468: 100%|██████████| 469/469 [00:21<00:00, 22.10it/s]\n",
            "  0%|          | 0/469 [00:00<?, ?it/s]"
          ],
          "name": "stderr"
        },
        {
          "output_type": "stream",
          "text": [
            "\n",
            "Epoch 8: Test set: Average loss: 0.0251, Accuracy: 9929/10000 (99.29%)\n",
            "\n"
          ],
          "name": "stdout"
        },
        {
          "output_type": "stream",
          "text": [
            "loss=0.016577454283833504 batch_id=468: 100%|██████████| 469/469 [00:21<00:00, 22.26it/s]\n",
            "  0%|          | 0/469 [00:00<?, ?it/s]"
          ],
          "name": "stderr"
        },
        {
          "output_type": "stream",
          "text": [
            "\n",
            "Epoch 9: Test set: Average loss: 0.0215, Accuracy: 9943/10000 (99.43%)\n",
            "\n"
          ],
          "name": "stdout"
        },
        {
          "output_type": "stream",
          "text": [
            "loss=0.013878644444048405 batch_id=468: 100%|██████████| 469/469 [00:21<00:00, 22.30it/s]\n",
            "  0%|          | 0/469 [00:00<?, ?it/s]"
          ],
          "name": "stderr"
        },
        {
          "output_type": "stream",
          "text": [
            "\n",
            "Epoch 10: Test set: Average loss: 0.0218, Accuracy: 9934/10000 (99.34%)\n",
            "\n"
          ],
          "name": "stdout"
        },
        {
          "output_type": "stream",
          "text": [
            "loss=0.0797257348895073 batch_id=468: 100%|██████████| 469/469 [00:21<00:00, 22.18it/s]\n",
            "  0%|          | 0/469 [00:00<?, ?it/s]"
          ],
          "name": "stderr"
        },
        {
          "output_type": "stream",
          "text": [
            "\n",
            "Epoch 11: Test set: Average loss: 0.0220, Accuracy: 9939/10000 (99.39%)\n",
            "\n"
          ],
          "name": "stdout"
        },
        {
          "output_type": "stream",
          "text": [
            "loss=0.010739109478890896 batch_id=468: 100%|██████████| 469/469 [00:21<00:00, 22.27it/s]\n",
            "  0%|          | 0/469 [00:00<?, ?it/s]"
          ],
          "name": "stderr"
        },
        {
          "output_type": "stream",
          "text": [
            "\n",
            "Epoch 12: Test set: Average loss: 0.0200, Accuracy: 9935/10000 (99.35%)\n",
            "\n"
          ],
          "name": "stdout"
        },
        {
          "output_type": "stream",
          "text": [
            "loss=0.03209525719285011 batch_id=468: 100%|██████████| 469/469 [00:21<00:00, 22.33it/s]\n",
            "  0%|          | 0/469 [00:00<?, ?it/s]"
          ],
          "name": "stderr"
        },
        {
          "output_type": "stream",
          "text": [
            "\n",
            "Epoch 13: Test set: Average loss: 0.0191, Accuracy: 9945/10000 (99.45%)\n",
            "\n"
          ],
          "name": "stdout"
        },
        {
          "output_type": "stream",
          "text": [
            "loss=0.03591877222061157 batch_id=468: 100%|██████████| 469/469 [00:20<00:00, 22.48it/s]\n",
            "  0%|          | 0/469 [00:00<?, ?it/s]"
          ],
          "name": "stderr"
        },
        {
          "output_type": "stream",
          "text": [
            "\n",
            "Epoch 14: Test set: Average loss: 0.0209, Accuracy: 9943/10000 (99.43%)\n",
            "\n"
          ],
          "name": "stdout"
        },
        {
          "output_type": "stream",
          "text": [
            "loss=0.014924040995538235 batch_id=468: 100%|██████████| 469/469 [00:21<00:00, 22.27it/s]\n",
            "  0%|          | 0/469 [00:00<?, ?it/s]"
          ],
          "name": "stderr"
        },
        {
          "output_type": "stream",
          "text": [
            "\n",
            "Epoch 15: Test set: Average loss: 0.0240, Accuracy: 9935/10000 (99.35%)\n",
            "\n"
          ],
          "name": "stdout"
        },
        {
          "output_type": "stream",
          "text": [
            "loss=0.005695496220141649 batch_id=468: 100%|██████████| 469/469 [00:20<00:00, 22.40it/s]\n",
            "  0%|          | 0/469 [00:00<?, ?it/s]"
          ],
          "name": "stderr"
        },
        {
          "output_type": "stream",
          "text": [
            "\n",
            "Epoch 16: Test set: Average loss: 0.0222, Accuracy: 9929/10000 (99.29%)\n",
            "\n"
          ],
          "name": "stdout"
        },
        {
          "output_type": "stream",
          "text": [
            "loss=0.0019392943941056728 batch_id=468: 100%|██████████| 469/469 [00:20<00:00, 22.37it/s]\n",
            "  0%|          | 0/469 [00:00<?, ?it/s]"
          ],
          "name": "stderr"
        },
        {
          "output_type": "stream",
          "text": [
            "\n",
            "Epoch 17: Test set: Average loss: 0.0200, Accuracy: 9943/10000 (99.43%)\n",
            "\n"
          ],
          "name": "stdout"
        },
        {
          "output_type": "stream",
          "text": [
            "loss=0.0350983701646328 batch_id=468: 100%|██████████| 469/469 [00:20<00:00, 22.47it/s]\n"
          ],
          "name": "stderr"
        },
        {
          "output_type": "stream",
          "text": [
            "\n",
            "Epoch 18: Test set: Average loss: 0.0179, Accuracy: 9945/10000 (99.45%)\n",
            "\n"
          ],
          "name": "stdout"
        }
      ]
    },
    {
      "cell_type": "code",
      "metadata": {
        "id": "So5uk4EkHW6R",
        "colab_type": "code",
        "colab": {
          "base_uri": "https://localhost:8080/",
          "height": 1000
        },
        "outputId": "c86543cb-0362-4023-a268-9399b48865f9"
      },
      "source": [
        "import matplotlib.pyplot as plt\n",
        "fig, ax = plt.subplots()\n",
        "ax.plot(train_loss_history);\n",
        "ax.set(xlabel='Batch', ylabel='Train Loss', title='Training Loss')\n",
        "plt.show()\n",
        "fig, ax = plt.subplots()\n",
        "ax.plot(test_loss_history);\n",
        "ax.set(xlabel='Iterations', ylabel='Train Loss', title='Training Loss');\n",
        "\n",
        "plt.show()\n",
        "fig, ax = plt.subplots();\n",
        "ax.plot(list(zip(*test_history))[0]);\n",
        "ax.set(xlabel='Epoch', ylabel='Validation Loss', title='Validation Loss');\n",
        "\n",
        "plt.show()\n",
        "fig, ax = plt.subplots();\n",
        "ax.plot(list(zip(*test_history))[1]);\n",
        "ax.set(xlabel='Epoch', ylabel='Validation Accuracy(%)', title='Validation Accuracy');\n",
        "\n"
      ],
      "execution_count": 113,
      "outputs": [
        {
          "output_type": "display_data",
          "data": {
            "image/png": "[encoded data removed]",
            "text/plain": [
              "<Figure size 432x288 with 1 Axes>"
            ]
          },
          "metadata": {
            "tags": [],
            "needs_background": "light"
          }
        },
        {
          "output_type": "display_data",
          "data": {
            "image/png": "[encoded data removed]",
            "text/plain": [
              "<Figure size 432x288 with 1 Axes>"
            ]
          },
          "metadata": {
            "tags": [],
            "needs_background": "light"
          }
        },
        {
          "output_type": "display_data",
          "data": {
            "image/png": "[encoded data removed]",
            "text/plain": [
              "<Figure size 432x288 with 1 Axes>"
            ]
          },
          "metadata": {
            "tags": [],
            "needs_background": "light"
          }
        },
        {
          "output_type": "display_data",
          "data": {
            "image/png": "[encoded data removed]",
            "text/plain": [
              "<Figure size 432x288 with 1 Axes>"
            ]
          },
          "metadata": {
            "tags": [],
            "needs_background": "light"
          }
        }
      ]
    }
  ]
}