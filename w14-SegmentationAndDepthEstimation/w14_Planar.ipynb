{
  "nbformat": 4,
  "nbformat_minor": 0,
  "metadata": {
    "accelerator": "GPU",
    "colab": {
      "name": "w14-Planar.ipynb",
      "provenance": [],
      "collapsed_sections": [],
      "toc_visible": true,
      "include_colab_link": true
    },
    "kernelspec": {
      "display_name": "Python 3",
      "language": "python",
      "name": "python3"
    },
    "language_info": {
      "codemirror_mode": {
        "name": "ipython",
        "version": 3
      },
      "file_extension": ".py",
      "mimetype": "text/x-python",
      "name": "python",
      "nbconvert_exporter": "python",
      "pygments_lexer": "ipython3",
      "version": "3.8.5"
    }
  },
  "cells": [
    {
      "cell_type": "markdown",
      "metadata": {
        "id": "view-in-github",
        "colab_type": "text"
      },
      "source": [
        "<a href=\"https://colab.research.google.com/github/bleamer/eva5/blob/master/w14-SegmentationAndDepthEstimation/w14_Planar.ipynb\" target=\"_parent\"><img src=\"https://colab.research.google.com/assets/colab-badge.svg\" alt=\"Open In Colab\"/></a>"
      ]
    },
    {
      "cell_type": "markdown",
      "metadata": {
        "id": "_9OL94AUvpzM"
      },
      "source": [
        "## Download and dpkg Cuda 8.0\n",
        "](https://developer.nvidia.com/cuda-downloads?target_os=Linux&target_arch=x86_64&target_distro=Ubuntu&target_version=1710&target_type=deblocal)"
      ]
    },
    {
      "cell_type": "code",
      "metadata": {
        "id": "_fuF-Bx5sjY7",
        "outputId": "78da4ebf-aeaf-45c6-fd86-12b0a2a56a9f",
        "colab": {
          "base_uri": "https://localhost:8080/"
        }
      },
      "source": [
        "!wget https://developer.nvidia.com/compute/cuda/8.0/Prod2/local_installers/cuda-repo-ubuntu1604-8-0-local-ga2_8.0.61-1_amd64-deb"
      ],
      "execution_count": 1,
      "outputs": [
        {
          "output_type": "stream",
          "text": [
            "--2020-11-01 16:49:10--  https://developer.nvidia.com/compute/cuda/8.0/Prod2/local_installers/cuda-repo-ubuntu1604-8-0-local-ga2_8.0.61-1_amd64-deb\n",
            "Resolving developer.nvidia.com (developer.nvidia.com)... 152.199.0.24\n",
            "Connecting to developer.nvidia.com (developer.nvidia.com)|152.199.0.24|:443... connected.\n",
            "HTTP request sent, awaiting response... 302 Found\n",
            "Location: https://developer.download.nvidia.com/compute/cuda/8.0/secure/Prod2/local_installers/cuda-repo-ubuntu1604-8-0-local-ga2_8.0.61-1_amd64.deb?ADdo4OFz3DEhNHL7azGs9nGIjlXmQyeFf0so_ml2DWpz7EVPodGqce_jktCuWyU7Gpa8fo83fdVMxOzCS97Mvj-NSTNq82fvObRC8Royqr9cREJVzqbn7lb3GzXdRbcM02UQ3EQ8cW6rORdxgssx_W8a_2dcvRgWJlwTBjHlo49PvRWESaIO3sCWx4C8L2h8-0beC9aPJZj1w3hfM2lddl7AYw [following]\n",
            "--2020-11-01 16:49:10--  https://developer.download.nvidia.com/compute/cuda/8.0/secure/Prod2/local_installers/cuda-repo-ubuntu1604-8-0-local-ga2_8.0.61-1_amd64.deb?ADdo4OFz3DEhNHL7azGs9nGIjlXmQyeFf0so_ml2DWpz7EVPodGqce_jktCuWyU7Gpa8fo83fdVMxOzCS97Mvj-NSTNq82fvObRC8Royqr9cREJVzqbn7lb3GzXdRbcM02UQ3EQ8cW6rORdxgssx_W8a_2dcvRgWJlwTBjHlo49PvRWESaIO3sCWx4C8L2h8-0beC9aPJZj1w3hfM2lddl7AYw\n",
            "Resolving developer.download.nvidia.com (developer.download.nvidia.com)... 152.195.19.142\n",
            "Connecting to developer.download.nvidia.com (developer.download.nvidia.com)|152.195.19.142|:443... connected.\n",
            "HTTP request sent, awaiting response... 200 OK\n",
            "Length: 1913589814 (1.8G) [application/x-deb]\n",
            "Saving to: ‘cuda-repo-ubuntu1604-8-0-local-ga2_8.0.61-1_amd64-deb.1’\n",
            "\n",
            "cuda-repo-ubuntu160 100%[===================>]   1.78G  33.1MB/s    in 15s     \n",
            "\n",
            "2020-11-01 16:49:25 (125 MB/s) - ‘cuda-repo-ubuntu1604-8-0-local-ga2_8.0.61-1_amd64-deb.1’ saved [1913589814/1913589814]\n",
            "\n"
          ],
          "name": "stdout"
        }
      ]
    },
    {
      "cell_type": "code",
      "metadata": {
        "id": "CCwhyhUsunI6",
        "outputId": "38e2520d-d29a-4017-a216-7952af96b3c5",
        "colab": {
          "base_uri": "https://localhost:8080/"
        }
      },
      "source": [
        "!dpkg -i cuda-repo-ubuntu1604-8-0-local-ga2_8.0.61-1_amd64-deb"
      ],
      "execution_count": 2,
      "outputs": [
        {
          "output_type": "stream",
          "text": [
            "(Reading database ... \r(Reading database ... 5%\r(Reading database ... 10%\r(Reading database ... 15%\r(Reading database ... 20%\r(Reading database ... 25%\r(Reading database ... 30%\r(Reading database ... 35%\r(Reading database ... 40%\r(Reading database ... 45%\r(Reading database ... 50%\r(Reading database ... 55%\r(Reading database ... 60%\r(Reading database ... 65%\r(Reading database ... 70%\r(Reading database ... 75%\r(Reading database ... 80%\r(Reading database ... 85%\r(Reading database ... 90%\r(Reading database ... 95%\r(Reading database ... 100%\r(Reading database ... 155550 files and directories currently installed.)\n",
            "Preparing to unpack cuda-repo-ubuntu1604-8-0-local-ga2_8.0.61-1_amd64-deb ...\n",
            "Unpacking cuda-repo-ubuntu1604-8-0-local-ga2 (8.0.61-1) over (8.0.61-1) ...\n",
            "Setting up cuda-repo-ubuntu1604-8-0-local-ga2 (8.0.61-1) ...\n",
            "Warning: The postinst maintainerscript of the package cuda-repo-ubuntu1604-8-0-local-ga2\n",
            "Warning: seems to use apt-key (provided by apt) without depending on gnupg or gnupg2.\n",
            "Warning: This will BREAK in the future and should be fixed by the package maintainer(s).\n",
            "Note: Check first if apt-key functionality is needed at all - it probably isn't!\n",
            "Warning: apt-key should not be used in scripts (called from postinst maintainerscript of the package cuda-repo-ubuntu1604-8-0-local-ga2)\n",
            "OK\n"
          ],
          "name": "stdout"
        }
      ]
    },
    {
      "cell_type": "markdown",
      "metadata": {
        "id": "jVFA77nd37rI"
      },
      "source": [
        "### Add Cuda package key for installation"
      ]
    },
    {
      "cell_type": "code",
      "metadata": {
        "id": "-pMYiP3fu2wV",
        "outputId": "81c6a0b2-f01c-41c0-be10-18af364945a8",
        "colab": {
          "base_uri": "https://localhost:8080/"
        }
      },
      "source": [
        "!ls /var/cuda-repo-8-0-local-ga2 | grep .pub"
      ],
      "execution_count": 3,
      "outputs": [
        {
          "output_type": "stream",
          "text": [
            "7fa2af80.pub\n"
          ],
          "name": "stdout"
        }
      ]
    },
    {
      "cell_type": "code",
      "metadata": {
        "id": "z8rgbF5SurNK",
        "outputId": "cc881848-06f1-4a25-9566-ec31230f76f6",
        "colab": {
          "base_uri": "https://localhost:8080/"
        }
      },
      "source": [
        "!apt-key add /var/cuda-repo-8-0-local-ga2/7fa2af80.pub"
      ],
      "execution_count": 4,
      "outputs": [
        {
          "output_type": "stream",
          "text": [
            "OK\n"
          ],
          "name": "stdout"
        }
      ]
    },
    {
      "cell_type": "code",
      "metadata": {
        "id": "QJyNe2USu-u5",
        "outputId": "11f899ee-1618-47ad-9dce-169ecee344c0",
        "colab": {
          "base_uri": "https://localhost:8080/"
        }
      },
      "source": [
        "!apt-get update 2>/dev/null"
      ],
      "execution_count": 5,
      "outputs": [
        {
          "output_type": "stream",
          "text": [
            "\r0% [Working]\r            \rGet:1 file:/var/cuda-repo-8-0-local-ga2  InRelease\n",
            "\r            \rIgn:1 file:/var/cuda-repo-8-0-local-ga2  InRelease\n",
            "\r0% [Connecting to archive.ubuntu.com] [Connecting to security.ubuntu.com] [Conn\r                                                                               \rGet:2 file:/var/cuda-repo-8-0-local-ga2  Release [574 B]\n",
            "\r0% [Connecting to archive.ubuntu.com] [Connecting to security.ubuntu.com] [Conn\r0% [Connecting to archive.ubuntu.com] [Connecting to security.ubuntu.com] [Conn\r                                                                               \rGet:2 file:/var/cuda-repo-8-0-local-ga2  Release [574 B]\n",
            "\r0% [2 Release 0 B/574 B 0%] [Connecting to archive.ubuntu.com] [Waiting for hea\r0% [Connecting to archive.ubuntu.com] [Waiting for headers] [Connected to cloud\r                                                                               \rHit:3 http://security.ubuntu.com/ubuntu bionic-security InRelease\n",
            "Hit:4 https://cloud.r-project.org/bin/linux/ubuntu bionic-cran40/ InRelease\n",
            "Ign:5 https://developer.download.nvidia.com/compute/cuda/repos/ubuntu1804/x86_64  InRelease\n",
            "Get:6 http://ppa.launchpad.net/c2d4u.team/c2d4u4.0+/ubuntu bionic InRelease [15.9 kB]\n",
            "Ign:7 https://developer.download.nvidia.com/compute/machine-learning/repos/ubuntu1804/x86_64  InRelease\n",
            "Hit:8 https://developer.download.nvidia.com/compute/cuda/repos/ubuntu1804/x86_64  Release\n",
            "Hit:10 https://developer.download.nvidia.com/compute/machine-learning/repos/ubuntu1804/x86_64  Release\n",
            "Hit:11 http://archive.ubuntu.com/ubuntu bionic InRelease\n",
            "Hit:12 http://archive.ubuntu.com/ubuntu bionic-updates InRelease\n",
            "Hit:13 http://ppa.launchpad.net/graphics-drivers/ppa/ubuntu bionic InRelease\n",
            "Hit:14 http://archive.ubuntu.com/ubuntu bionic-backports InRelease\n",
            "Hit:15 http://ppa.launchpad.net/ubuntu-toolchain-r/test/ubuntu bionic InRelease\n",
            "Get:18 http://ppa.launchpad.net/c2d4u.team/c2d4u4.0+/ubuntu bionic/main Sources [1,687 kB]\n",
            "Get:19 http://ppa.launchpad.net/c2d4u.team/c2d4u4.0+/ubuntu bionic/main amd64 Packages [863 kB]\n",
            "Fetched 2,566 kB in 2s (1,088 kB/s)\n",
            "Reading package lists... Done\n"
          ],
          "name": "stdout"
        }
      ]
    },
    {
      "cell_type": "markdown",
      "metadata": {
        "id": "IcKF4rdN5H7-"
      },
      "source": [
        "## Install Cuda 8.0"
      ]
    },
    {
      "cell_type": "code",
      "metadata": {
        "id": "Z4_R2QZbvAwx"
      },
      "source": [
        "!apt-get install -qq cuda-8-0 2>/dev/null"
      ],
      "execution_count": 6,
      "outputs": []
    },
    {
      "cell_type": "code",
      "metadata": {
        "id": "qxAlR-u4tkMb",
        "outputId": "6a76b0d4-c81b-4fbd-8071-8e9cc5e38f9f",
        "colab": {
          "base_uri": "https://localhost:8080/"
        }
      },
      "source": [
        "!nvcc --version"
      ],
      "execution_count": 7,
      "outputs": [
        {
          "output_type": "stream",
          "text": [
            "nvcc: NVIDIA (R) Cuda compiler driver\n",
            "Copyright (c) 2005-2016 NVIDIA Corporation\n",
            "Built on Tue_Jan_10_13:22:03_CST_2017\n",
            "Cuda compilation tools, release 8.0, V8.0.61\n"
          ],
          "name": "stdout"
        }
      ]
    },
    {
      "cell_type": "markdown",
      "metadata": {
        "id": "MyEyVPQcvTyU"
      },
      "source": [
        "## Install Requirements"
      ]
    },
    {
      "cell_type": "code",
      "metadata": {
        "id": "x9ybV8SMFbbQ",
        "outputId": "e80eccb7-7810-4982-aa15-90ba0b767ab7",
        "colab": {
          "base_uri": "https://localhost:8080/"
        }
      },
      "source": [
        "from google.colab import drive\n",
        "drive.mount('/content/drive')"
      ],
      "execution_count": 8,
      "outputs": [
        {
          "output_type": "stream",
          "text": [
            "Drive already mounted at /content/drive; to attempt to forcibly remount, call drive.mount(\"/content/drive\", force_remount=True).\n"
          ],
          "name": "stdout"
        }
      ]
    },
    {
      "cell_type": "code",
      "metadata": {
        "id": "mgJTT65AKR1e",
        "outputId": "11626013-b999-40cc-f25d-9156399f673c",
        "colab": {
          "base_uri": "https://localhost:8080/"
        }
      },
      "source": [
        "import os\n",
        "current_path = '/content/drive/My Drive/eva5/w14-SegmentationAndDepthEstimation/' \n",
        "os.makedirs(current_path,exist_ok=True)\n",
        "os.chdir(current_path)\n",
        "os.getcwd()"
      ],
      "execution_count": 9,
      "outputs": [
        {
          "output_type": "execute_result",
          "data": {
            "application/vnd.google.colaboratory.intrinsic+json": {
              "type": "string"
            },
            "text/plain": [
              "'/content/drive/My Drive/eva5/w14-SegmentationAndDepthEstimation'"
            ]
          },
          "metadata": {
            "tags": []
          },
          "execution_count": 9
        }
      ]
    },
    {
      "cell_type": "code",
      "metadata": {
        "id": "ebr8WDkXvGQD",
        "outputId": "06faf490-73f2-4e03-ac13-8e5751fce5f2",
        "colab": {
          "base_uri": "https://localhost:8080/"
        }
      },
      "source": [
        "# %cd /content/drive/My Drive/Planercnn/planercnn/\n",
        "!pip install -r req.txt"
      ],
      "execution_count": 10,
      "outputs": [
        {
          "output_type": "stream",
          "text": [
            "Requirement already satisfied: numpy==1.18.5 in /usr/local/lib/python3.6/dist-packages (from -r req.txt (line 1)) (1.18.5)\n",
            "Requirement already satisfied: torch==0.4.1 in /usr/local/lib/python3.6/dist-packages (from -r req.txt (line 2)) (0.4.1)\n",
            "Requirement already satisfied: torchsummary==1.5.1 in /usr/local/lib/python3.6/dist-packages (from -r req.txt (line 4)) (1.5.1)\n",
            "Requirement already satisfied: tqdm==4.41.1 in /usr/local/lib/python3.6/dist-packages (from -r req.txt (line 5)) (4.41.1)\n",
            "Requirement already satisfied: matplotlib==3.2.2 in /usr/local/lib/python3.6/dist-packages (from -r req.txt (line 6)) (3.2.2)\n",
            "Requirement already satisfied: albumentations==0.4.6 in /usr/local/lib/python3.6/dist-packages (from -r req.txt (line 7)) (0.4.6)\n",
            "Requirement already satisfied: opencv-python==4.1.1.26 in /usr/local/lib/python3.6/dist-packages (from -r req.txt (line 8)) (4.1.1.26)\n",
            "Requirement already satisfied: scikit-image==0.14.2 in /usr/local/lib/python3.6/dist-packages (from -r req.txt (line 9)) (0.14.2)\n",
            "Requirement already satisfied: cffi==1.11.5 in /usr/local/lib/python3.6/dist-packages (from -r req.txt (line 10)) (1.11.5)\n",
            "Requirement already satisfied: pyparsing!=2.0.4,!=2.1.2,!=2.1.6,>=2.0.1 in /usr/local/lib/python3.6/dist-packages (from matplotlib==3.2.2->-r req.txt (line 6)) (2.4.7)\n",
            "Requirement already satisfied: kiwisolver>=1.0.1 in /usr/local/lib/python3.6/dist-packages (from matplotlib==3.2.2->-r req.txt (line 6)) (1.2.0)\n",
            "Requirement already satisfied: python-dateutil>=2.1 in /usr/local/lib/python3.6/dist-packages (from matplotlib==3.2.2->-r req.txt (line 6)) (2.8.1)\n",
            "Requirement already satisfied: cycler>=0.10 in /usr/local/lib/python3.6/dist-packages (from matplotlib==3.2.2->-r req.txt (line 6)) (0.10.0)\n",
            "Requirement already satisfied: PyYAML in /usr/local/lib/python3.6/dist-packages (from albumentations==0.4.6->-r req.txt (line 7)) (3.13)\n",
            "Requirement already satisfied: imgaug>=0.4.0 in /usr/local/lib/python3.6/dist-packages (from albumentations==0.4.6->-r req.txt (line 7)) (0.4.0)\n",
            "Requirement already satisfied: scipy in /usr/local/lib/python3.6/dist-packages (from albumentations==0.4.6->-r req.txt (line 7)) (1.4.1)\n",
            "Requirement already satisfied: dask[array]>=1.0.0 in /usr/local/lib/python3.6/dist-packages (from scikit-image==0.14.2->-r req.txt (line 9)) (2.12.0)\n",
            "Requirement already satisfied: pillow>=4.3.0 in /usr/local/lib/python3.6/dist-packages (from scikit-image==0.14.2->-r req.txt (line 9)) (7.0.0)\n",
            "Requirement already satisfied: cloudpickle>=0.2.1 in /usr/local/lib/python3.6/dist-packages (from scikit-image==0.14.2->-r req.txt (line 9)) (1.3.0)\n",
            "Requirement already satisfied: PyWavelets>=0.4.0 in /usr/local/lib/python3.6/dist-packages (from scikit-image==0.14.2->-r req.txt (line 9)) (1.1.1)\n",
            "Requirement already satisfied: networkx>=1.8 in /usr/local/lib/python3.6/dist-packages (from scikit-image==0.14.2->-r req.txt (line 9)) (2.5)\n",
            "Requirement already satisfied: six>=1.10.0 in /usr/local/lib/python3.6/dist-packages (from scikit-image==0.14.2->-r req.txt (line 9)) (1.15.0)\n",
            "Requirement already satisfied: pycparser in /usr/local/lib/python3.6/dist-packages (from cffi==1.11.5->-r req.txt (line 10)) (2.20)\n",
            "Requirement already satisfied: Shapely in /usr/local/lib/python3.6/dist-packages (from imgaug>=0.4.0->albumentations==0.4.6->-r req.txt (line 7)) (1.7.1)\n",
            "Requirement already satisfied: imageio in /usr/local/lib/python3.6/dist-packages (from imgaug>=0.4.0->albumentations==0.4.6->-r req.txt (line 7)) (2.4.1)\n",
            "Requirement already satisfied: toolz>=0.7.3; extra == \"array\" in /usr/local/lib/python3.6/dist-packages (from dask[array]>=1.0.0->scikit-image==0.14.2->-r req.txt (line 9)) (0.11.1)\n",
            "Requirement already satisfied: decorator>=4.3.0 in /usr/local/lib/python3.6/dist-packages (from networkx>=1.8->scikit-image==0.14.2->-r req.txt (line 9)) (4.4.2)\n"
          ],
          "name": "stdout"
        }
      ]
    },
    {
      "cell_type": "markdown",
      "metadata": {
        "id": "EzDMDCjy6G0F"
      },
      "source": [
        "## Install GCC 5"
      ]
    },
    {
      "cell_type": "code",
      "metadata": {
        "id": "GHizYH1IDqPE",
        "outputId": "0a0f83fa-26b8-4440-f1e4-c015f602b2ce",
        "colab": {
          "base_uri": "https://localhost:8080/"
        }
      },
      "source": [
        "!sudo apt-get -qq update && \\\n",
        "sudo apt-get -qq  install build-essential software-properties-common -y && \\\n",
        "sudo add-apt-repository ppa:ubuntu-toolchain-r/test -y && \\\n",
        "sudo apt-get  -qq update && \\\n",
        "sudo apt-get -qq install gcc-5 g++-5 -y && \\\n",
        "sudo update-alternatives --install /usr/bin/gcc gcc /usr/bin/gcc-5 50 --slave /usr/bin/g++ g++ /usr/bin/g++-5 && \\\n",
        "gcc -v"
      ],
      "execution_count": 11,
      "outputs": [
        {
          "output_type": "stream",
          "text": [
            "\r0% [Working]\r            \rGet:1 file:/var/cuda-repo-8-0-local-ga2  InRelease\n",
            "\r            \rIgn:1 file:/var/cuda-repo-8-0-local-ga2  InRelease\n",
            "\r0% [Connecting to cloud.r-project.org] [Connecting to ppa.launchpad.net] [Conne\r                                                                               \rGet:2 file:/var/cuda-repo-8-0-local-ga2  Release [574 B]\n",
            "\r0% [Connecting to security.ubuntu.com] [Connecting to cloud.r-project.org] [Con\r                                                                               \rGet:2 file:/var/cuda-repo-8-0-local-ga2  Release [574 B]\n",
            "\r0% [Connecting to archive.ubuntu.com] [Connecting to security.ubuntu.com (91.18\r0% [Release.gpg gpgv 574 B] [Connecting to archive.ubuntu.com (91.189.88.142)] \r                                                                               \rHit:3 https://cloud.r-project.org/bin/linux/ubuntu bionic-cran40/ InRelease\n",
            "Ign:5 https://developer.download.nvidia.com/compute/cuda/repos/ubuntu1804/x86_64  InRelease\n",
            "Hit:6 http://ppa.launchpad.net/c2d4u.team/c2d4u4.0+/ubuntu bionic InRelease\n",
            "Hit:7 http://security.ubuntu.com/ubuntu bionic-security InRelease\n",
            "Hit:8 http://archive.ubuntu.com/ubuntu bionic InRelease\n",
            "Ign:9 https://developer.download.nvidia.com/compute/machine-learning/repos/ubuntu1804/x86_64  InRelease\n",
            "Hit:10 https://developer.download.nvidia.com/compute/cuda/repos/ubuntu1804/x86_64  Release\n",
            "Hit:11 https://developer.download.nvidia.com/compute/machine-learning/repos/ubuntu1804/x86_64  Release\n",
            "Hit:12 http://archive.ubuntu.com/ubuntu bionic-updates InRelease\n",
            "Hit:13 http://ppa.launchpad.net/graphics-drivers/ppa/ubuntu bionic InRelease\n",
            "Hit:14 http://archive.ubuntu.com/ubuntu bionic-backports InRelease\n",
            "Hit:15 http://ppa.launchpad.net/ubuntu-toolchain-r/test/ubuntu bionic InRelease\n",
            "Reading package lists... Done\n",
            "Using built-in specs.\n",
            "COLLECT_GCC=gcc\n",
            "COLLECT_LTO_WRAPPER=/usr/lib/gcc/x86_64-linux-gnu/5/lto-wrapper\n",
            "Target: x86_64-linux-gnu\n",
            "Configured with: ../src/configure -v --with-pkgversion='Ubuntu 5.5.0-12ubuntu1' --with-bugurl=file:///usr/share/doc/gcc-5/README.Bugs --enable-languages=c,ada,c++,go,d,fortran,objc,obj-c++ --prefix=/usr --program-suffix=-5 --enable-shared --enable-linker-build-id --libexecdir=/usr/lib --without-included-gettext --enable-threads=posix --libdir=/usr/lib --enable-nls --with-sysroot=/ --enable-clocale=gnu --enable-libstdcxx-debug --enable-libstdcxx-time=yes --with-default-libstdcxx-abi=new --enable-gnu-unique-object --disable-vtable-verify --enable-libmpx --enable-plugin --enable-default-pie --with-system-zlib --enable-objc-gc --enable-multiarch --disable-werror --with-arch-32=i686 --with-abi=m64 --with-multilib-list=m32,m64,mx32 --enable-multilib --with-tune=generic --enable-checking=release --build=x86_64-linux-gnu --host=x86_64-linux-gnu --target=x86_64-linux-gnu\n",
            "Thread model: posix\n",
            "gcc version 5.5.0 20171010 (Ubuntu 5.5.0-12ubuntu1) \n"
          ],
          "name": "stdout"
        }
      ]
    },
    {
      "cell_type": "code",
      "metadata": {
        "id": "LovTfFY3Fgxe"
      },
      "source": [
        "!sudo apt-get -qq install gcc-5 g++-5 g++-5-multilib gfortran-5"
      ],
      "execution_count": 12,
      "outputs": []
    },
    {
      "cell_type": "code",
      "metadata": {
        "id": "2X3lR73QGg-X"
      },
      "source": [
        "!sudo update-alternatives --install /usr/bin/gcc gcc /usr/bin/gcc-5 50 --slave /usr/bin/g++ g++ /usr/bin/g++-5"
      ],
      "execution_count": 13,
      "outputs": []
    },
    {
      "cell_type": "code",
      "metadata": {
        "id": "rNPXsAS8GhMF",
        "outputId": "4f4c1537-0619-443d-f9cc-dd2b326e6aad",
        "colab": {
          "base_uri": "https://localhost:8080/"
        }
      },
      "source": [
        "!sudo update-alternatives --config gcc"
      ],
      "execution_count": 14,
      "outputs": [
        {
          "output_type": "stream",
          "text": [
            "There is only one alternative in link group gcc (providing /usr/bin/gcc): /usr/bin/gcc-5\n",
            "Nothing to configure.\n"
          ],
          "name": "stdout"
        }
      ]
    },
    {
      "cell_type": "markdown",
      "metadata": {
        "id": "QbNEroyV61Wk"
      },
      "source": [
        "## Compile NMS"
      ]
    },
    {
      "cell_type": "code",
      "metadata": {
        "id": "57Q0ytTANKZS",
        "outputId": "49a69ce6-cab2-4e0a-d403-ca47b27d7f5e",
        "colab": {
          "base_uri": "https://localhost:8080/"
        }
      },
      "source": [
        "os.chdir('/content/drive/My Drive/eva5/w14-SegmentationAndDepthEstimation/Planercnn')\n",
        "!pwd"
      ],
      "execution_count": 15,
      "outputs": [
        {
          "output_type": "stream",
          "text": [
            "/content/drive/My Drive/eva5/w14-SegmentationAndDepthEstimation/Planercnn\n"
          ],
          "name": "stdout"
        }
      ]
    },
    {
      "cell_type": "code",
      "metadata": {
        "id": "Q2mBc6Sy7HNE",
        "outputId": "091b95c8-4b05-420f-c111-37d50bd869a5",
        "colab": {
          "base_uri": "https://localhost:8080/"
        }
      },
      "source": [
        "!git clone https://github.com/NVlabs/planercnn/\n"
      ],
      "execution_count": 16,
      "outputs": [
        {
          "output_type": "stream",
          "text": [
            "fatal: destination path 'planercnn' already exists and is not an empty directory.\n"
          ],
          "name": "stdout"
        }
      ]
    },
    {
      "cell_type": "code",
      "metadata": {
        "id": "QQOEb2tnN7ys",
        "outputId": "58657e45-809f-4218-8b50-aee4ee52af68",
        "colab": {
          "base_uri": "https://localhost:8080/"
        }
      },
      "source": [
        "\n",
        "os.chdir('/content/drive/My Drive/eva5/w14-SegmentationAndDepthEstimation/Planercnn/planercnn')\n",
        "!pwd\n",
        "!ls"
      ],
      "execution_count": 17,
      "outputs": [
        {
          "output_type": "stream",
          "text": [
            "/content/drive/My Drive/eva5/w14-SegmentationAndDepthEstimation/Planercnn/planercnn\n",
            "anchors\t\t\t\t\t\t       nms\n",
            "checkpoint\t\t\t\t\t       options.py\n",
            "checkpoint.zip.1\t\t\t\t       plane_utils.py\n",
            "config.py\t\t\t\t\t       __pycache__\n",
            "cuda-repo-ubuntu1604-8-0-local-ga2_8.0.61-1_amd64-deb  README.md\n",
            "data_prep\t\t\t\t\t       requirements.txt\n",
            "datasets\t\t\t\t\t       roialign\n",
            "evaluate.py\t\t\t\t\t       test\n",
            "evaluate_utils.py\t\t\t\t       train_planercnn.py\n",
            "example_images\t\t\t\t\t       utils.py\n",
            "LICENSE.md\t\t\t\t\t       visualize_utils.py\n",
            "models\n"
          ],
          "name": "stdout"
        }
      ]
    },
    {
      "cell_type": "code",
      "metadata": {
        "id": "H0OHUIhvzNpN",
        "outputId": "96a184bb-4551-490b-8b61-5c386c214104",
        "colab": {
          "base_uri": "https://localhost:8080/"
        }
      },
      "source": [
        "%cd nms/src/cuda/\n",
        "!nvcc -c -o nms_kernel.cu.o nms_kernel.cu -x cu -Xcompiler -fPIC -arch=sm_60\n",
        "%cd ../../\n",
        "!python build.py\n",
        "%cd ../"
      ],
      "execution_count": 18,
      "outputs": [
        {
          "output_type": "stream",
          "text": [
            "/content/drive/My Drive/eva5/w14-SegmentationAndDepthEstimation/Planercnn/planercnn/nms/src/cuda\n",
            "/content/drive/My Drive/eva5/w14-SegmentationAndDepthEstimation/Planercnn/planercnn/nms\n",
            "Including CUDA code.\n",
            "/content/drive/My Drive/eva5/w14-SegmentationAndDepthEstimation/Planercnn/planercnn/nms\n",
            "generating /tmp/tmpzt8u9ll6/_nms.c\n",
            "setting the current directory to '/tmp/tmpzt8u9ll6'\n",
            "running build_ext\n",
            "building '_nms' extension\n",
            "creating content\n",
            "creating content/drive\n",
            "creating content/drive/My Drive\n",
            "creating content/drive/My Drive/eva5\n",
            "creating content/drive/My Drive/eva5/w14-SegmentationAndDepthEstimation\n",
            "creating content/drive/My Drive/eva5/w14-SegmentationAndDepthEstimation/Planercnn\n",
            "creating content/drive/My Drive/eva5/w14-SegmentationAndDepthEstimation/Planercnn/planercnn\n",
            "creating content/drive/My Drive/eva5/w14-SegmentationAndDepthEstimation/Planercnn/planercnn/nms\n",
            "creating content/drive/My Drive/eva5/w14-SegmentationAndDepthEstimation/Planercnn/planercnn/nms/src\n",
            "x86_64-linux-gnu-gcc -pthread -DNDEBUG -g -fwrapv -O2 -Wall -g -fstack-protector-strong -Wformat -Werror=format-security -Wdate-time -D_FORTIFY_SOURCE=2 -fPIC -DWITH_CUDA -I/usr/local/lib/python3.6/dist-packages/torch/utils/ffi/../../lib/include -I/usr/local/lib/python3.6/dist-packages/torch/utils/ffi/../../lib/include/TH -I/usr/local/lib/python3.6/dist-packages/torch/utils/ffi/../../lib/include/THC -I/usr/local/cuda/include -I/usr/include/python3.6m -c _nms.c -o ./_nms.o -std=c99\n",
            "x86_64-linux-gnu-gcc -pthread -DNDEBUG -g -fwrapv -O2 -Wall -g -fstack-protector-strong -Wformat -Werror=format-security -Wdate-time -D_FORTIFY_SOURCE=2 -fPIC -DWITH_CUDA -I/usr/local/lib/python3.6/dist-packages/torch/utils/ffi/../../lib/include -I/usr/local/lib/python3.6/dist-packages/torch/utils/ffi/../../lib/include/TH -I/usr/local/lib/python3.6/dist-packages/torch/utils/ffi/../../lib/include/THC -I/usr/local/cuda/include -I/usr/include/python3.6m -c /content/drive/My Drive/eva5/w14-SegmentationAndDepthEstimation/Planercnn/planercnn/nms/src/nms.c -o ./content/drive/My Drive/eva5/w14-SegmentationAndDepthEstimation/Planercnn/planercnn/nms/src/nms.o -std=c99\n",
            "x86_64-linux-gnu-gcc -pthread -DNDEBUG -g -fwrapv -O2 -Wall -g -fstack-protector-strong -Wformat -Werror=format-security -Wdate-time -D_FORTIFY_SOURCE=2 -fPIC -DWITH_CUDA -I/usr/local/lib/python3.6/dist-packages/torch/utils/ffi/../../lib/include -I/usr/local/lib/python3.6/dist-packages/torch/utils/ffi/../../lib/include/TH -I/usr/local/lib/python3.6/dist-packages/torch/utils/ffi/../../lib/include/THC -I/usr/local/cuda/include -I/usr/include/python3.6m -c /content/drive/My Drive/eva5/w14-SegmentationAndDepthEstimation/Planercnn/planercnn/nms/src/nms_cuda.c -o ./content/drive/My Drive/eva5/w14-SegmentationAndDepthEstimation/Planercnn/planercnn/nms/src/nms_cuda.o -std=c99\n",
            "\u001b[01m\u001b[K/content/drive/My Drive/eva5/w14-SegmentationAndDepthEstimation/Planercnn/planercnn/nms/src/nms_cuda.c:\u001b[m\u001b[K In function ‘\u001b[01m\u001b[Kgpu_nms\u001b[m\u001b[K’:\n",
            "\u001b[01m\u001b[K/content/drive/My Drive/eva5/w14-SegmentationAndDepthEstimation/Planercnn/planercnn/nms/src/nms_cuda.c:29:35:\u001b[m\u001b[K \u001b[01;35m\u001b[Kwarning: \u001b[m\u001b[Kinitialization from incompatible pointer type [\u001b[01;35m\u001b[K-Wincompatible-pointer-types\u001b[m\u001b[K]\n",
            "   unsigned long long* mask_flat = \u001b[01;35m\u001b[KTHCudaLongTensor_data\u001b[m\u001b[K(state, mask);\n",
            "                                   \u001b[01;35m\u001b[K^~~~~~~~~~~~~~~~~~~~~\u001b[m\u001b[K\n",
            "\u001b[01m\u001b[K/content/drive/My Drive/eva5/w14-SegmentationAndDepthEstimation/Planercnn/planercnn/nms/src/nms_cuda.c:37:40:\u001b[m\u001b[K \u001b[01;35m\u001b[Kwarning: \u001b[m\u001b[Kinitialization from incompatible pointer type [\u001b[01;35m\u001b[K-Wincompatible-pointer-types\u001b[m\u001b[K]\n",
            "   unsigned long long * mask_cpu_flat = \u001b[01;35m\u001b[KTHLongTensor_data\u001b[m\u001b[K(mask_cpu);\n",
            "                                        \u001b[01;35m\u001b[K^~~~~~~~~~~~~~~~~\u001b[m\u001b[K\n",
            "\u001b[01m\u001b[K/content/drive/My Drive/eva5/w14-SegmentationAndDepthEstimation/Planercnn/planercnn/nms/src/nms_cuda.c:40:39:\u001b[m\u001b[K \u001b[01;35m\u001b[Kwarning: \u001b[m\u001b[Kinitialization from incompatible pointer type [\u001b[01;35m\u001b[K-Wincompatible-pointer-types\u001b[m\u001b[K]\n",
            "   unsigned long long* remv_cpu_flat = \u001b[01;35m\u001b[KTHLongTensor_data\u001b[m\u001b[K(remv_cpu);\n",
            "                                       \u001b[01;35m\u001b[K^~~~~~~~~~~~~~~~~\u001b[m\u001b[K\n",
            "\u001b[01m\u001b[K/content/drive/My Drive/eva5/w14-SegmentationAndDepthEstimation/Planercnn/planercnn/nms/src/nms_cuda.c:23:7:\u001b[m\u001b[K \u001b[01;35m\u001b[Kwarning: \u001b[m\u001b[Kunused variable ‘\u001b[01m\u001b[Kboxes_dim\u001b[m\u001b[K’ [\u001b[01;35m\u001b[K-Wunused-variable\u001b[m\u001b[K]\n",
            "   int \u001b[01;35m\u001b[Kboxes_dim\u001b[m\u001b[K = THCudaTensor_size(state, boxes, 1);\n",
            "       \u001b[01;35m\u001b[K^~~~~~~~~\u001b[m\u001b[K\n",
            "x86_64-linux-gnu-gcc -pthread -shared -Wl,-O1 -Wl,-Bsymbolic-functions -Wl,-Bsymbolic-functions -Wl,-z,relro -Wl,-Bsymbolic-functions -Wl,-z,relro -g -fstack-protector-strong -Wformat -Werror=format-security -Wdate-time -D_FORTIFY_SOURCE=2 ./_nms.o ./content/drive/My Drive/eva5/w14-SegmentationAndDepthEstimation/Planercnn/planercnn/nms/src/nms.o ./content/drive/My Drive/eva5/w14-SegmentationAndDepthEstimation/Planercnn/planercnn/nms/src/nms_cuda.o /content/drive/My Drive/eva5/w14-SegmentationAndDepthEstimation/Planercnn/planercnn/nms/src/cuda/nms_kernel.cu.o -o ./_nms.so\n",
            "/content/drive/My Drive/eva5/w14-SegmentationAndDepthEstimation/Planercnn/planercnn\n"
          ],
          "name": "stdout"
        }
      ]
    },
    {
      "cell_type": "markdown",
      "metadata": {
        "id": "5pFls8lp71VR"
      },
      "source": [
        "## Build ROIAlign"
      ]
    },
    {
      "cell_type": "code",
      "metadata": {
        "id": "7VVwwkKcHf9B",
        "outputId": "69c9b70a-1e32-4412-d6ed-6d8041184aca",
        "colab": {
          "base_uri": "https://localhost:8080/"
        }
      },
      "source": [
        "%cd roialign/roi_align/src/cuda/\n",
        "!nvcc -c -o crop_and_resize_kernel.cu.o crop_and_resize_kernel.cu -x cu -Xcompiler -fPIC -arch=sm_60\n",
        "%cd ../../\n",
        "!python build.py\n",
        "%cd ../../"
      ],
      "execution_count": 19,
      "outputs": [
        {
          "output_type": "stream",
          "text": [
            "/content/drive/My Drive/eva5/w14-SegmentationAndDepthEstimation/Planercnn/planercnn/roialign/roi_align/src/cuda\n",
            "/content/drive/My Drive/eva5/w14-SegmentationAndDepthEstimation/Planercnn/planercnn/roialign/roi_align\n",
            "Including CUDA code.\n",
            "/content/drive/My Drive/eva5/w14-SegmentationAndDepthEstimation/Planercnn/planercnn/roialign/roi_align\n",
            "generating /tmp/tmpap0h3z_o/_crop_and_resize.c\n",
            "setting the current directory to '/tmp/tmpap0h3z_o'\n",
            "running build_ext\n",
            "building '_crop_and_resize' extension\n",
            "creating content\n",
            "creating content/drive\n",
            "creating content/drive/My Drive\n",
            "creating content/drive/My Drive/eva5\n",
            "creating content/drive/My Drive/eva5/w14-SegmentationAndDepthEstimation\n",
            "creating content/drive/My Drive/eva5/w14-SegmentationAndDepthEstimation/Planercnn\n",
            "creating content/drive/My Drive/eva5/w14-SegmentationAndDepthEstimation/Planercnn/planercnn\n",
            "creating content/drive/My Drive/eva5/w14-SegmentationAndDepthEstimation/Planercnn/planercnn/roialign\n",
            "creating content/drive/My Drive/eva5/w14-SegmentationAndDepthEstimation/Planercnn/planercnn/roialign/roi_align\n",
            "creating content/drive/My Drive/eva5/w14-SegmentationAndDepthEstimation/Planercnn/planercnn/roialign/roi_align/src\n",
            "x86_64-linux-gnu-gcc -pthread -DNDEBUG -g -fwrapv -O2 -Wall -g -fstack-protector-strong -Wformat -Werror=format-security -Wdate-time -D_FORTIFY_SOURCE=2 -fPIC -DWITH_CUDA -I/usr/local/lib/python3.6/dist-packages/torch/utils/ffi/../../lib/include -I/usr/local/lib/python3.6/dist-packages/torch/utils/ffi/../../lib/include/TH -I/usr/local/lib/python3.6/dist-packages/torch/utils/ffi/../../lib/include/THC -I/usr/local/cuda/include -I/usr/include/python3.6m -c _crop_and_resize.c -o ./_crop_and_resize.o -std=c99 -fopenmp -std=c99\n",
            "x86_64-linux-gnu-gcc -pthread -DNDEBUG -g -fwrapv -O2 -Wall -g -fstack-protector-strong -Wformat -Werror=format-security -Wdate-time -D_FORTIFY_SOURCE=2 -fPIC -DWITH_CUDA -I/usr/local/lib/python3.6/dist-packages/torch/utils/ffi/../../lib/include -I/usr/local/lib/python3.6/dist-packages/torch/utils/ffi/../../lib/include/TH -I/usr/local/lib/python3.6/dist-packages/torch/utils/ffi/../../lib/include/THC -I/usr/local/cuda/include -I/usr/include/python3.6m -c /content/drive/My Drive/eva5/w14-SegmentationAndDepthEstimation/Planercnn/planercnn/roialign/roi_align/src/crop_and_resize.c -o ./content/drive/My Drive/eva5/w14-SegmentationAndDepthEstimation/Planercnn/planercnn/roialign/roi_align/src/crop_and_resize.o -std=c99 -fopenmp -std=c99\n",
            "x86_64-linux-gnu-gcc -pthread -DNDEBUG -g -fwrapv -O2 -Wall -g -fstack-protector-strong -Wformat -Werror=format-security -Wdate-time -D_FORTIFY_SOURCE=2 -fPIC -DWITH_CUDA -I/usr/local/lib/python3.6/dist-packages/torch/utils/ffi/../../lib/include -I/usr/local/lib/python3.6/dist-packages/torch/utils/ffi/../../lib/include/TH -I/usr/local/lib/python3.6/dist-packages/torch/utils/ffi/../../lib/include/THC -I/usr/local/cuda/include -I/usr/include/python3.6m -c /content/drive/My Drive/eva5/w14-SegmentationAndDepthEstimation/Planercnn/planercnn/roialign/roi_align/src/crop_and_resize_gpu.c -o ./content/drive/My Drive/eva5/w14-SegmentationAndDepthEstimation/Planercnn/planercnn/roialign/roi_align/src/crop_and_resize_gpu.o -std=c99 -fopenmp -std=c99\n",
            "x86_64-linux-gnu-gcc -pthread -shared -Wl,-O1 -Wl,-Bsymbolic-functions -Wl,-Bsymbolic-functions -Wl,-z,relro -Wl,-Bsymbolic-functions -Wl,-z,relro -g -fstack-protector-strong -Wformat -Werror=format-security -Wdate-time -D_FORTIFY_SOURCE=2 ./_crop_and_resize.o ./content/drive/My Drive/eva5/w14-SegmentationAndDepthEstimation/Planercnn/planercnn/roialign/roi_align/src/crop_and_resize.o ./content/drive/My Drive/eva5/w14-SegmentationAndDepthEstimation/Planercnn/planercnn/roialign/roi_align/src/crop_and_resize_gpu.o /content/drive/My Drive/eva5/w14-SegmentationAndDepthEstimation/Planercnn/planercnn/roialign/roi_align/src/cuda/crop_and_resize_kernel.cu.o -o ./_crop_and_resize.so\n",
            "/content/drive/My Drive/eva5/w14-SegmentationAndDepthEstimation/Planercnn/planercnn\n"
          ],
          "name": "stdout"
        }
      ]
    },
    {
      "cell_type": "markdown",
      "metadata": {
        "id": "wGzVNkOZ8A65"
      },
      "source": [
        "## Download Weights File"
      ]
    },
    {
      "cell_type": "code",
      "metadata": {
        "id": "qDTlUayIdAA9",
        "outputId": "ecc0cd80-0ead-4db8-be68-0ab3302a069a",
        "colab": {
          "base_uri": "https://localhost:8080/"
        }
      },
      "source": [
        "!wget https://www.dropbox.com/s/yjcg6s57n581sk0/checkpoint.zip"
      ],
      "execution_count": 20,
      "outputs": [
        {
          "output_type": "stream",
          "text": [
            "--2020-11-01 16:50:54--  https://www.dropbox.com/s/yjcg6s57n581sk0/checkpoint.zip\n",
            "Resolving www.dropbox.com (www.dropbox.com)... 162.125.6.1, 2620:100:601c:1::a27d:601\n",
            "Connecting to www.dropbox.com (www.dropbox.com)|162.125.6.1|:443... connected.\n",
            "HTTP request sent, awaiting response... 301 Moved Permanently\n",
            "Location: /s/raw/yjcg6s57n581sk0/checkpoint.zip [following]\n",
            "--2020-11-01 16:50:54--  https://www.dropbox.com/s/raw/yjcg6s57n581sk0/checkpoint.zip\n",
            "Reusing existing connection to www.dropbox.com:443.\n",
            "HTTP request sent, awaiting response... 302 Found\n",
            "Location: https://uca908a6d444321a1e0b5ac4c399.dl.dropboxusercontent.com/cd/0/inline/BCZhFqjVyHwMg3BTu0DX-PUER6Gisvh3fb2SUBUwlCxa1rQpyiAu1UbIlD49fYHE0ObIgEZntrAvMclUQ_havFEsACNxvXN_kLazTw1Uhc7jOw/file# [following]\n",
            "--2020-11-01 16:50:55--  https://uca908a6d444321a1e0b5ac4c399.dl.dropboxusercontent.com/cd/0/inline/BCZhFqjVyHwMg3BTu0DX-PUER6Gisvh3fb2SUBUwlCxa1rQpyiAu1UbIlD49fYHE0ObIgEZntrAvMclUQ_havFEsACNxvXN_kLazTw1Uhc7jOw/file\n",
            "Resolving uca908a6d444321a1e0b5ac4c399.dl.dropboxusercontent.com (uca908a6d444321a1e0b5ac4c399.dl.dropboxusercontent.com)... 162.125.6.15, 2620:100:6030:15::a27d:500f\n",
            "Connecting to uca908a6d444321a1e0b5ac4c399.dl.dropboxusercontent.com (uca908a6d444321a1e0b5ac4c399.dl.dropboxusercontent.com)|162.125.6.15|:443... connected.\n",
            "HTTP request sent, awaiting response... 302 Found\n",
            "Location: /cd/0/inline2/BCbQ3Wueh5Q9qDlpqeJB58WoAN9W0v03ex6kw1SyqIvuZlkwq69APT1_emaG1rge_7p39KCghyBujz6f50QLz4xiXL1aYgbsaW9UIRPCsrod8Nt9rSmZ2qpU0eQyMHT9x9vPcg6ljho7elfvm8SsR87CZAbzGxMsbWY1zBzvLRFeQQQCH_h4R5WnVRV4zITJHdDCHd22jVCjsyvsQ1x0moaAi7i7CO_TD5ryTr0OpTOqbouDgc4L2MQPXYnN1SyOilsEkZgEdx2bpyZYKUoGGbKm0KT3AK4HarIH02o2VwYwLQ9yBdS8xc2Ns6I1Hd_rG29AX6z3w3AdDA3f5mHoxFOM/file [following]\n",
            "--2020-11-01 16:50:55--  https://uca908a6d444321a1e0b5ac4c399.dl.dropboxusercontent.com/cd/0/inline2/BCbQ3Wueh5Q9qDlpqeJB58WoAN9W0v03ex6kw1SyqIvuZlkwq69APT1_emaG1rge_7p39KCghyBujz6f50QLz4xiXL1aYgbsaW9UIRPCsrod8Nt9rSmZ2qpU0eQyMHT9x9vPcg6ljho7elfvm8SsR87CZAbzGxMsbWY1zBzvLRFeQQQCH_h4R5WnVRV4zITJHdDCHd22jVCjsyvsQ1x0moaAi7i7CO_TD5ryTr0OpTOqbouDgc4L2MQPXYnN1SyOilsEkZgEdx2bpyZYKUoGGbKm0KT3AK4HarIH02o2VwYwLQ9yBdS8xc2Ns6I1Hd_rG29AX6z3w3AdDA3f5mHoxFOM/file\n",
            "Reusing existing connection to uca908a6d444321a1e0b5ac4c399.dl.dropboxusercontent.com:443.\n",
            "HTTP request sent, awaiting response... 200 OK\n",
            "Length: 262259930 (250M) [application/zip]\n",
            "Saving to: ‘checkpoint.zip’\n",
            "\n",
            "checkpoint.zip      100%[===================>] 250.11M  55.8MB/s    in 4.3s    \n",
            "\n",
            "2020-11-01 16:51:00 (57.8 MB/s) - ‘checkpoint.zip’ saved [262259930/262259930]\n",
            "\n"
          ],
          "name": "stdout"
        }
      ]
    },
    {
      "cell_type": "code",
      "metadata": {
        "id": "ACkccT2PdiOC",
        "outputId": "ec0ef2de-1052-4c7b-bb63-f16fdafa3949",
        "colab": {
          "base_uri": "https://localhost:8080/"
        }
      },
      "source": [
        "!mkdir checkpoint"
      ],
      "execution_count": 21,
      "outputs": [
        {
          "output_type": "stream",
          "text": [
            "mkdir: cannot create directory ‘checkpoint’: File exists\n"
          ],
          "name": "stdout"
        }
      ]
    },
    {
      "cell_type": "code",
      "metadata": {
        "id": "ExSVQExmdWhF",
        "outputId": "df075874-5fa7-4b7a-f008-2921134cfea8",
        "colab": {
          "base_uri": "https://localhost:8080/"
        }
      },
      "source": [
        "!unzip checkpoint.zip -d checkpoint/"
      ],
      "execution_count": 22,
      "outputs": [
        {
          "output_type": "stream",
          "text": [
            "Archive:  checkpoint.zip\n",
            "replace checkpoint/planercnn_normal_warping_refine/checkpoint_refine.pth? [y]es, [n]o, [A]ll, [N]one, [r]ename: Ay\n",
            "  inflating: checkpoint/planercnn_normal_warping_refine/checkpoint_refine.pth  \n",
            "  inflating: checkpoint/planercnn_normal_warping_refine/checkpoint.pth  \n"
          ],
          "name": "stdout"
        }
      ]
    },
    {
      "cell_type": "code",
      "metadata": {
        "id": "xV9yicDHd17G"
      },
      "source": [
        "!rm checkpoint.zip"
      ],
      "execution_count": 23,
      "outputs": []
    },
    {
      "cell_type": "markdown",
      "metadata": {
        "id": "C1shXzw38UYA"
      },
      "source": [
        "## Getting PPE Dataset files"
      ]
    },
    {
      "cell_type": "code",
      "metadata": {
        "id": "Eh8L26Xn8wvN",
        "outputId": "203724a1-8f9b-4133-909f-ed30094f738d",
        "colab": {
          "base_uri": "https://localhost:8080/"
        }
      },
      "source": [
        "import os\n",
        "os.getcwd()"
      ],
      "execution_count": 24,
      "outputs": [
        {
          "output_type": "execute_result",
          "data": {
            "application/vnd.google.colaboratory.intrinsic+json": {
              "type": "string"
            },
            "text/plain": [
              "'/content/drive/My Drive/eva5/w14-SegmentationAndDepthEstimation/Planercnn/planercnn'"
            ]
          },
          "metadata": {
            "tags": []
          },
          "execution_count": 24
        }
      ]
    },
    {
      "cell_type": "code",
      "metadata": {
        "id": "hWV32rLoIuRE",
        "outputId": "f4c1912d-e18a-4ac1-d546-900e11a0830a",
        "colab": {
          "base_uri": "https://localhost:8080/"
        }
      },
      "source": [
        "%cd /content/drive/My Drive/eva5/w14-SegmentationAndDepthEstimation/YoloV3_Dataset/Images"
      ],
      "execution_count": 25,
      "outputs": [
        {
          "output_type": "stream",
          "text": [
            "/content/drive/My Drive/eva5/w14-SegmentationAndDepthEstimation/YoloV3_Dataset/Images\n"
          ],
          "name": "stdout"
        }
      ]
    },
    {
      "cell_type": "code",
      "metadata": {
        "id": "Y21WClZDIybm",
        "outputId": "693dbe39-fb23-4831-d7e9-7c34c1b9d1b9",
        "colab": {
          "base_uri": "https://localhost:8080/"
        }
      },
      "source": [
        "len(os.listdir())"
      ],
      "execution_count": 26,
      "outputs": [
        {
          "output_type": "execute_result",
          "data": {
            "text/plain": [
              "3591"
            ]
          },
          "metadata": {
            "tags": []
          },
          "execution_count": 26
        }
      ]
    },
    {
      "cell_type": "code",
      "metadata": {
        "id": "2MS20eHA8uWE",
        "outputId": "87920ffc-f195-4dd6-b0fc-5bfc32147063",
        "colab": {
          "base_uri": "https://localhost:8080/"
        }
      },
      "source": [
        "!cp *.jpg \"/content/drive/My Drive/eva5/w14-SegmentationAndDepthEstimation/Planercnn/planercnn/example_images/\""
      ],
      "execution_count": 27,
      "outputs": [
        {
          "output_type": "stream",
          "text": [
            "^C\n"
          ],
          "name": "stdout"
        }
      ]
    },
    {
      "cell_type": "markdown",
      "metadata": {
        "id": "g7Lcegi595br"
      },
      "source": [
        "## Inference on PPE Dataset"
      ]
    },
    {
      "cell_type": "code",
      "metadata": {
        "id": "OXDtHzYY987D",
        "outputId": "668977ac-e9b8-4b0a-d491-2e8ec3fad94c",
        "colab": {
          "base_uri": "https://localhost:8080/"
        }
      },
      "source": [
        "%cd /content/drive/My Drive/eva5/w14-SegmentationAndDepthEstimation/Planercnn/planercnn"
      ],
      "execution_count": 28,
      "outputs": [
        {
          "output_type": "stream",
          "text": [
            "/content/drive/My Drive/eva5/w14-SegmentationAndDepthEstimation/Planercnn/planercnn\n"
          ],
          "name": "stdout"
        }
      ]
    },
    {
      "cell_type": "code",
      "metadata": {
        "id": "16GwPwlxe4yU",
        "outputId": "b2f1b40c-d7e4-4be1-af7b-9d737edaafd0",
        "colab": {
          "base_uri": "https://localhost:8080/"
        }
      },
      "source": [
        "!python evaluate.py --methods=f --suffix=warping_refine --dataset=inference --customDataFolder=example_images --numTestingImages=5000"
      ],
      "execution_count": null,
      "outputs": [
        {
          "output_type": "stream",
          "text": [
            "the number of images 3543\n",
            "\r  0% 0/3543 [00:00<?, ?it/s]/content/drive/My Drive/eva5/w14-SegmentationAndDepthEstimation/Planercnn/planercnn/models/model.py:1473: UserWarning: nn.init.xavier_uniform is now deprecated in favor of nn.init.xavier_uniform_.\n",
            "  nn.init.xavier_uniform(m.weight)\n",
            "THCudaCheck FAIL file=/pytorch/aten/src/THC/THCGeneral.cpp line=663 error=11 : invalid argument\n",
            "/usr/local/lib/python3.6/dist-packages/torch/nn/functional.py:1890: UserWarning: nn.functional.upsample is deprecated. Use nn.functional.interpolate instead.\n",
            "  warnings.warn(\"nn.functional.upsample is deprecated. Use nn.functional.interpolate instead.\")\n",
            "/usr/local/lib/python3.6/dist-packages/torch/nn/modules/upsampling.py:122: UserWarning: nn.Upsampling is deprecated. Use nn.functional.interpolate instead.\n",
            "  warnings.warn(\"nn.Upsampling is deprecated. Use nn.functional.interpolate instead.\")\n",
            "/usr/local/lib/python3.6/dist-packages/torch/nn/functional.py:1961: UserWarning: Default upsampling behavior when mode=bilinear is changed to align_corners=False since 0.4.0. Please specify align_corners=True if the old behavior is desired. See the documentation of nn.Upsample for details.\n",
            "  \"See the documentation of nn.Upsample for details.\".format(mode))\n",
            "  6% 207/3543 [08:12<2:15:38,  2.44s/it]"
          ],
          "name": "stdout"
        }
      ]
    },
    {
      "cell_type": "markdown",
      "metadata": {
        "id": "AHn54iQwX9Sr"
      },
      "source": [
        "# Visualize few outputs"
      ]
    },
    {
      "cell_type": "code",
      "metadata": {
        "id": "Rs_5ZPxaqTdC"
      },
      "source": [
        "from PIL import Image\n",
        "import matplotlib.pyplot as plt"
      ],
      "execution_count": null,
      "outputs": []
    },
    {
      "cell_type": "code",
      "metadata": {
        "id": "UOYlv4mfYbhV"
      },
      "source": [
        "%cd /content/drive/My Drive/eva5/w14-SegmentationAndDepthEstimation/Planercnn/planercnn/test/inference"
      ],
      "execution_count": null,
      "outputs": []
    },
    {
      "cell_type": "code",
      "metadata": {
        "id": "rdLMgpTZYTSb"
      },
      "source": [
        "fig, ax = plt.subplots(1, 2, figsize = (10, 6))\n",
        "with Image.open(\"/content/drive/My Drive/eva5/w14-SegmentationAndDepthEstimation/Planercnn/planercnn/test/inference/1000_image_0.png\") as img:\n",
        "  ax[0].imshow(img)\n",
        "with Image.open(\"/content/drive/My Drive/eva5/w14-SegmentationAndDepthEstimation/Planercnn/planercnn/test/inference/1000_segmentation_0_final.png\") as img:\n",
        "  ax[1].imshow(img)"
      ],
      "execution_count": null,
      "outputs": []
    },
    {
      "cell_type": "code",
      "metadata": {
        "id": "pxJPGeD_ZF21"
      },
      "source": [
        "fig, ax = plt.subplots(1, 2, figsize = (10, 6))\n",
        "with Image.open(\"/content/drive/My Drive/eva5/w14-SegmentationAndDepthEstimation/Planercnn/planercnn/test/inference/1435_image_0.png\") as img:\n",
        "  ax[0].imshow(img)\n",
        "with Image.open(\"/content/drive/My Drive/eva5/w14-SegmentationAndDepthEstimation/Planercnn/planercnn/test/inference/1435_segmentation_0_final.png\") as img:\n",
        "  ax[1].imshow(img)"
      ],
      "execution_count": null,
      "outputs": []
    },
    {
      "cell_type": "markdown",
      "metadata": {
        "id": "oMMyLcLQc7Un"
      },
      "source": [
        "# Creating the Dataset"
      ]
    },
    {
      "cell_type": "markdown",
      "metadata": {
        "id": "qh3m-635l_Hs"
      },
      "source": [
        "### Segmentation Files"
      ]
    },
    {
      "cell_type": "code",
      "metadata": {
        "id": "jvSQ2D9rcCjr"
      },
      "source": [
        "segmentation_files = os.listdir(\"/content/drive/My Drive/eva5/w14-SegmentationAndDepthEstimation/Planercnn/planercnn/test/inference\")"
      ],
      "execution_count": null,
      "outputs": []
    },
    {
      "cell_type": "code",
      "metadata": {
        "id": "aiYeUi0OgRfd"
      },
      "source": [
        "segmentation_files = [x for x in segmentation_files if \"segmentation\" in x]"
      ],
      "execution_count": null,
      "outputs": []
    },
    {
      "cell_type": "code",
      "metadata": {
        "id": "powhMj15gfAr"
      },
      "source": [
        "segmentation_dir = \"/content/drive/My Drive/eva5/w14-SegmentationAndDepthEstimation/Planercnn/planercnn/test/inference\""
      ],
      "execution_count": null,
      "outputs": []
    },
    {
      "cell_type": "code",
      "metadata": {
        "id": "GjhReF_hh0IX"
      },
      "source": [
        "segmentation_out_dir = \"/content/drive/My Drive/eva5/w14-SegmentationAndDepthEstimation/PPE_Dataset/Planes\""
      ],
      "execution_count": null,
      "outputs": []
    },
    {
      "cell_type": "code",
      "metadata": {
        "id": "RfivIKv4g0DM"
      },
      "source": [
        "from tqdm.autonotebook import tqdm"
      ],
      "execution_count": null,
      "outputs": []
    },
    {
      "cell_type": "code",
      "metadata": {
        "id": "LjNKgQ5VhIW9"
      },
      "source": [
        "pbar = tqdm(enumerate(segmentation_files), total = len(segmentation_files))\n",
        "\n",
        "for idx, seg_file in pbar:\n",
        "  out = os.path.join(segmentation_out_dir, seg_file)\n",
        "  in_file = os.path.join(segmentation_dir, seg_file)\n",
        "  !cp \"{in_file}\" \"{out}\" "
      ],
      "execution_count": null,
      "outputs": []
    },
    {
      "cell_type": "markdown",
      "metadata": {
        "id": "ndhwTGmFmF3C"
      },
      "source": [
        "### Depth Maps"
      ]
    },
    {
      "cell_type": "code",
      "metadata": {
        "id": "JF3nGKQlm3UP"
      },
      "source": [
        "%cd /content/drive/My Drive/eva5/w14-SegmentationAndDepthEstimation/MiDaS/output"
      ],
      "execution_count": null,
      "outputs": []
    },
    {
      "cell_type": "code",
      "metadata": {
        "id": "2IkPC6SOiVq5"
      },
      "source": [
        "!cp *.png \"/content/drive/My Drive/eva5/w14-SegmentationAndDepthEstimation/PPE_Dataset/DepthMaps\" "
      ],
      "execution_count": null,
      "outputs": []
    },
    {
      "cell_type": "markdown",
      "metadata": {
        "id": "CUXEEHvMniZ2"
      },
      "source": [
        "### Images and Labels"
      ]
    },
    {
      "cell_type": "code",
      "metadata": {
        "id": "gdxd0NmcnCf9"
      },
      "source": [
        "%cd /content/drive/My Drive/eva5/w14-SegmentationAndDepthEstimation/YoloV3/data/customdata/labels"
      ],
      "execution_count": null,
      "outputs": []
    },
    {
      "cell_type": "code",
      "metadata": {
        "id": "nwSWDvqrxqs-"
      },
      "source": [
        "!cp *.txt \"/content/drive/My Drive/eva5/w14-SegmentationAndDepthEstimation/PPE_Dataset/BoundingBox\""
      ],
      "execution_count": null,
      "outputs": []
    },
    {
      "cell_type": "code",
      "metadata": {
        "id": "Ks7jBgujyRZa"
      },
      "source": [
        "%cd /content/drive/My Drive/eva5/w14-SegmentationAndDepthEstimation/YoloV3/data/customdata/images"
      ],
      "execution_count": null,
      "outputs": []
    },
    {
      "cell_type": "code",
      "metadata": {
        "id": "f1U1oj93z3mP"
      },
      "source": [
        "!cp *.jpg \"/content/drive/My Drive/eva5/w14-SegmentationAndDepthEstimation/PPE_Dataset/Images\""
      ],
      "execution_count": null,
      "outputs": []
    },
    {
      "cell_type": "code",
      "metadata": {
        "id": "nYcshoKV0zlw"
      },
      "source": [
        "len(os.listdir(\"/content/drive/My Drive/eva5/w14-SegmentationAndDepthEstimation/PPE_Dataset/Images\"))"
      ],
      "execution_count": null,
      "outputs": []
    },
    {
      "cell_type": "code",
      "metadata": {
        "id": "D97GfdPK-fXv"
      },
      "source": [
        "!sudo apt-get install tree"
      ],
      "execution_count": null,
      "outputs": []
    },
    {
      "cell_type": "code",
      "metadata": {
        "id": "rjQSyLxv-yVb"
      },
      "source": [
        "!tree -d \"/content/drive/My Drive/eva5/w14-SegmentationAndDepthEstimation/PPE_Dataset\""
      ],
      "execution_count": null,
      "outputs": []
    }
  ]
}